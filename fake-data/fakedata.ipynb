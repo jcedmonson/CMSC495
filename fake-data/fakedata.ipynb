{
 "cells": [
  {
   "cell_type": "code",
   "execution_count": 1,
   "metadata": {},
   "outputs": [],
   "source": [
    "from faker import Faker\n",
    "from faker.providers.person.en import Provider\n"
   ]
  },
  {
   "cell_type": "code",
   "execution_count": 2,
   "metadata": {},
   "outputs": [],
   "source": [
    "fake = Faker()"
   ]
  },
  {
   "cell_type": "code",
   "execution_count": 3,
   "metadata": {},
   "outputs": [
    {
     "data": {
      "text/plain": [
       "'Matthew'"
      ]
     },
     "execution_count": 3,
     "metadata": {},
     "output_type": "execute_result"
    }
   ],
   "source": [
    "fake.email()\n",
    "fake.first_name()"
   ]
  },
  {
   "cell_type": "code",
   "execution_count": 28,
   "metadata": {},
   "outputs": [],
   "source": [
    "users = []\n",
    "data = []\n",
    "for i in range(6):\n",
    "  users.append({\n",
    "    \"userId\": i,\n",
    "    \"username\": fake.simple_profile()[\"username\"],\n",
    "    \"first_name\": fake.first_name(),\n",
    "    \"last_name\": fake.last_name(),\n",
    "    \"email\": fake.email(),\n",
    "    \"password\": fake.password(),\n",
    "    \"token\": f\"ACrazyToken{i}\",\n",
    "    \"friends\": []\n",
    "  })\n",
    "\n",
    "users.append({ \"userId\": 6,\n",
    "    \"username\": \"jedmonson\",\n",
    "    \"first_name\": \"Jacob\",\n",
    "    \"last_name\": \"Edmonson\",\n",
    "    \"email\": \"myemail@gmail.com\",\n",
    "    \"password\": \"myPassword\",\n",
    "    \"token\": \"ACrazyToken\"\n",
    "  })"
   ]
  },
  {
   "cell_type": "code",
   "execution_count": 29,
   "metadata": {},
   "outputs": [
    {
     "data": {
      "text/plain": [
       "[{'userId': 0,\n",
       "  'username': 'derek72',\n",
       "  'first_name': 'Jacqueline',\n",
       "  'last_name': 'Church',\n",
       "  'email': 'xsimpson@example.org',\n",
       "  'password': 'sAzK8Mw05*',\n",
       "  'token': 'ACrazyToken'},\n",
       " {'userId': 1,\n",
       "  'username': 'mroman',\n",
       "  'first_name': 'Diana',\n",
       "  'last_name': 'Frye',\n",
       "  'email': 'probertson@example.org',\n",
       "  'password': 'D63Qr%Wl&P',\n",
       "  'token': 'ACrazyToken'},\n",
       " {'userId': 2,\n",
       "  'username': 'dustin72',\n",
       "  'first_name': 'Kathryn',\n",
       "  'last_name': 'Patterson',\n",
       "  'email': 'mendezjoseph@example.net',\n",
       "  'password': 'O6iLqSv9_5',\n",
       "  'token': 'ACrazyToken'},\n",
       " {'userId': 3,\n",
       "  'username': 'davidsimon',\n",
       "  'first_name': 'Roger',\n",
       "  'last_name': 'Williams',\n",
       "  'email': 'danielgriffin@example.com',\n",
       "  'password': '@6sVHaAB&+',\n",
       "  'token': 'ACrazyToken'},\n",
       " {'userId': 4,\n",
       "  'username': 'john95',\n",
       "  'first_name': 'Charles',\n",
       "  'last_name': 'Ramsey',\n",
       "  'email': 'elowery@example.org',\n",
       "  'password': '@+80GzqQR%',\n",
       "  'token': 'ACrazyToken'},\n",
       " {'userId': 5,\n",
       "  'username': 'zimmermanlindsay',\n",
       "  'first_name': 'Ashley',\n",
       "  'last_name': 'Molina',\n",
       "  'email': 'baxtersteven@example.com',\n",
       "  'password': 'h_9LIH0g^X',\n",
       "  'token': 'ACrazyToken'},\n",
       " {'userId': 6,\n",
       "  'username': 'jedmonson',\n",
       "  'first_name': 'Jacob',\n",
       "  'last_name': 'Edmonson',\n",
       "  'email': 'myemail@gmail.com',\n",
       "  'password': 'myPassword',\n",
       "  'token': 'ACrazyToken'}]"
      ]
     },
     "execution_count": 29,
     "metadata": {},
     "output_type": "execute_result"
    }
   ],
   "source": [
    "users"
   ]
  },
  {
   "cell_type": "code",
   "execution_count": 10,
   "metadata": {},
   "outputs": [],
   "source": [
    "import json\n",
    "with open(\"sampleUserData.json\", \"w\") as f:\n",
    "  json.dump(users, f, indent=2)"
   ]
  },
  {
   "cell_type": "code",
   "execution_count": 31,
   "metadata": {},
   "outputs": [
    {
     "name": "stdout",
     "output_type": "stream",
     "text": [
      "0\n",
      "1\n",
      "4\n",
      "4\n",
      "2\n",
      "4\n",
      "3\n",
      "1\n",
      "1\n",
      "2\n"
     ]
    }
   ],
   "source": [
    "import random\n",
    "\n",
    "posts = []\n",
    "for i in range(10):\n",
    "  user = random.randint(0,5)\n",
    "  print(user)\n",
    "  posts.append({\n",
    "    \"userId\": user,\n",
    "    \"username\": users[user][\"username\"],\n",
    "    \"postId\": i,\n",
    "    \"content\": fake.text()[:255].replace('\\n', ''),\n",
    "    \"reactions\": []\n",
    "  })"
   ]
  },
  {
   "cell_type": "code",
   "execution_count": 32,
   "metadata": {},
   "outputs": [
    {
     "data": {
      "text/plain": [
       "[{'userId': 0,\n",
       "  'username': 'derek72',\n",
       "  'postId': 0,\n",
       "  'content': 'Everybody remember standard whose worry. Region arrive wonder popular chair.',\n",
       "  'reactions': []},\n",
       " {'userId': 1,\n",
       "  'username': 'mroman',\n",
       "  'postId': 1,\n",
       "  'content': 'Police east purpose ready. Support card everyone pull. Choose eight guess fill.Best agency stock probably right different. Even claim certainly so enter. They on spring.',\n",
       "  'reactions': []},\n",
       " {'userId': 4,\n",
       "  'username': 'john95',\n",
       "  'postId': 2,\n",
       "  'content': 'Serve spring me partner hour improve begin. Recognize us buy model his lead.Situation television language miss system base. Human value increase sort. Series hair kid cost respond later order cup.',\n",
       "  'reactions': []},\n",
       " {'userId': 4,\n",
       "  'username': 'john95',\n",
       "  'postId': 3,\n",
       "  'content': 'Report stuff commercial sell money. Culture radio see gas create. Direction democratic capital.',\n",
       "  'reactions': []},\n",
       " {'userId': 2,\n",
       "  'username': 'dustin72',\n",
       "  'postId': 4,\n",
       "  'content': 'Democratic nature last sign economic boy raise.Technology nor space activity. Politics trial effect value decide sing. Responsibility wear enough. Air it commercial half management value mouth.',\n",
       "  'reactions': []},\n",
       " {'userId': 4,\n",
       "  'username': 'john95',\n",
       "  'postId': 5,\n",
       "  'content': 'Act it three maybe officer her. Especially begin positive woman control share.Country try yet blood front resource Mr. Listen campaign how determine development western price.',\n",
       "  'reactions': []},\n",
       " {'userId': 3,\n",
       "  'username': 'davidsimon',\n",
       "  'postId': 6,\n",
       "  'content': 'Society rule management different question sell. Establish try degree word surface medical thought but. I forward it because. Painting behind bad trip case.',\n",
       "  'reactions': []},\n",
       " {'userId': 1,\n",
       "  'username': 'mroman',\n",
       "  'postId': 7,\n",
       "  'content': 'Join particular production compare carry.Public reality health join memory those. Evening thought ten put democratic memory. Pretty worry effect understand probably watch recently.',\n",
       "  'reactions': []},\n",
       " {'userId': 1,\n",
       "  'username': 'mroman',\n",
       "  'postId': 8,\n",
       "  'content': 'Kitchen go someone occur opportunity show glass. Art member true force law bar.Official similar interview. Read our box smile material.',\n",
       "  'reactions': []},\n",
       " {'userId': 2,\n",
       "  'username': 'dustin72',\n",
       "  'postId': 9,\n",
       "  'content': 'History audience try pay opportunity. Drive democratic quite.Board morning deep direction. Present protect side occur.Herself product almost sometimes. Direction good book again.',\n",
       "  'reactions': []}]"
      ]
     },
     "execution_count": 32,
     "metadata": {},
     "output_type": "execute_result"
    }
   ],
   "source": [
    "posts"
   ]
  },
  {
   "cell_type": "code",
   "execution_count": 35,
   "metadata": {},
   "outputs": [],
   "source": [
    "with open(\"samplePostData.json\", \"w\") as f:\n",
    "  json.dump(posts, f, indent=2)"
   ]
  },
  {
   "cell_type": "code",
   "execution_count": null,
   "metadata": {},
   "outputs": [],
   "source": []
  }
 ],
 "metadata": {
  "kernelspec": {
   "display_name": "school",
   "language": "python",
   "name": "python3"
  },
  "language_info": {
   "codemirror_mode": {
    "name": "ipython",
    "version": 3
   },
   "file_extension": ".py",
   "mimetype": "text/x-python",
   "name": "python",
   "nbconvert_exporter": "python",
   "pygments_lexer": "ipython3",
   "version": "3.10.9"
  },
  "orig_nbformat": 4,
  "vscode": {
   "interpreter": {
    "hash": "105b338b3980484a30612e12bb8da50c0a8af4d7e161d9fda78a479814b6b08e"
   }
  }
 },
 "nbformat": 4,
 "nbformat_minor": 2
}
