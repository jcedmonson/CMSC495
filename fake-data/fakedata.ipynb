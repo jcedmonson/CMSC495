{
 "cells": [
  {
   "cell_type": "code",
   "execution_count": 1,
   "metadata": {},
   "outputs": [],
   "source": [
    "from faker import Faker\n",
    "from faker.providers.person.en import Provider\n"
   ]
  },
  {
   "cell_type": "code",
   "execution_count": 2,
   "metadata": {},
   "outputs": [],
   "source": [
    "fake = Faker()"
   ]
  },
  {
   "cell_type": "code",
   "execution_count": 3,
   "metadata": {},
   "outputs": [
    {
     "data": {
      "text/plain": [
       "'Matthew'"
      ]
     },
     "execution_count": 3,
     "metadata": {},
     "output_type": "execute_result"
    }
   ],
   "source": [
    "fake.email()\n",
    "fake.first_name()"
   ]
  },
  {
   "cell_type": "code",
   "execution_count": 5,
   "metadata": {},
   "outputs": [],
   "source": [
    "users = []\n",
    "data = []\n",
    "for i in range(6):\n",
    "  users.append({\n",
    "    \"userId\": i,\n",
    "    \"username\": fake.simple_profile()[\"username\"],\n",
    "    \"first_name\": fake.first_name(),\n",
    "    \"last_name\": fake.last_name(),\n",
    "    \"email\": fake.email(),\n",
    "    \"password\": fake.password(),\n",
    "    \"token\": f\"ACrazyToken{i}\",\n",
    "    \"connections\": []\n",
    "  })\n",
    "\n",
    "users.append({ \"userId\": 6,\n",
    "    \"username\": \"jedmonson\",\n",
    "    \"first_name\": \"Jacob\",\n",
    "    \"last_name\": \"Edmonson\",\n",
    "    \"email\": \"myemail@gmail.com\",\n",
    "    \"password\": \"myPassword\",\n",
    "    \"token\": \"ACrazyToken\"\n",
    "  })"
   ]
  },
  {
   "cell_type": "code",
   "execution_count": 6,
   "metadata": {},
   "outputs": [
    {
     "data": {
      "text/plain": [
       "[{'userId': 0,\n",
       "  'username': 'bdavis',\n",
       "  'first_name': 'Cynthia',\n",
       "  'last_name': 'Larson',\n",
       "  'email': 'jose72@example.org',\n",
       "  'password': 'M$1Kc)GA%O',\n",
       "  'token': 'ACrazyToken0',\n",
       "  'connections': []},\n",
       " {'userId': 1,\n",
       "  'username': 'xrios',\n",
       "  'first_name': 'Richard',\n",
       "  'last_name': 'Hunter',\n",
       "  'email': 'chaneymathew@example.com',\n",
       "  'password': '+A1Owjtq1&',\n",
       "  'token': 'ACrazyToken1',\n",
       "  'connections': []},\n",
       " {'userId': 2,\n",
       "  'username': 'cynthiaallen',\n",
       "  'first_name': 'Jack',\n",
       "  'last_name': 'Miller',\n",
       "  'email': 'uburns@example.com',\n",
       "  'password': 'q7@BfwAh&%',\n",
       "  'token': 'ACrazyToken2',\n",
       "  'connections': []},\n",
       " {'userId': 3,\n",
       "  'username': 'michelle81',\n",
       "  'first_name': 'James',\n",
       "  'last_name': 'Sims',\n",
       "  'email': 'garciajames@example.com',\n",
       "  'password': '#XW@1D2dej',\n",
       "  'token': 'ACrazyToken3',\n",
       "  'connections': []},\n",
       " {'userId': 4,\n",
       "  'username': 'lindsay04',\n",
       "  'first_name': 'Maria',\n",
       "  'last_name': 'Gomez',\n",
       "  'email': 'xflowers@example.net',\n",
       "  'password': '_bB8FUlJ7U',\n",
       "  'token': 'ACrazyToken4',\n",
       "  'connections': []},\n",
       " {'userId': 5,\n",
       "  'username': 'gavinmarsh',\n",
       "  'first_name': 'Brittany',\n",
       "  'last_name': 'Trujillo',\n",
       "  'email': 'pcontreras@example.com',\n",
       "  'password': '(5&JG8mCru',\n",
       "  'token': 'ACrazyToken5',\n",
       "  'connections': []},\n",
       " {'userId': 6,\n",
       "  'username': 'jedmonson',\n",
       "  'first_name': 'Jacob',\n",
       "  'last_name': 'Edmonson',\n",
       "  'email': 'myemail@gmail.com',\n",
       "  'password': 'myPassword',\n",
       "  'token': 'ACrazyToken'}]"
      ]
     },
     "execution_count": 6,
     "metadata": {},
     "output_type": "execute_result"
    }
   ],
   "source": [
    "users"
   ]
  },
  {
   "cell_type": "code",
   "execution_count": 10,
   "metadata": {},
   "outputs": [],
   "source": [
    "import json\n",
    "with open(\"sampleUserData.json\", \"w\") as f:\n",
    "  json.dump(users, f, indent=2)"
   ]
  },
  {
   "cell_type": "code",
   "execution_count": 7,
   "metadata": {},
   "outputs": [
    {
     "name": "stdout",
     "output_type": "stream",
     "text": [
      "5\n",
      "0\n",
      "5\n",
      "5\n",
      "5\n",
      "0\n",
      "3\n",
      "0\n",
      "2\n",
      "4\n"
     ]
    }
   ],
   "source": [
    "import random\n",
    "\n",
    "posts = []\n",
    "for i in range(10):\n",
    "  user = random.randint(0,5)\n",
    "  print(user)\n",
    "  posts.append({\n",
    "    \"userId\": user,\n",
    "    \"username\": users[user][\"username\"],\n",
    "    \"postId\": i,\n",
    "    \"content\": fake.text()[:255].replace('\\n', ''),\n",
    "    \"reactions\": []\n",
    "  })"
   ]
  },
  {
   "cell_type": "code",
   "execution_count": 8,
   "metadata": {},
   "outputs": [
    {
     "data": {
      "text/plain": [
       "[{'userId': 5,\n",
       "  'username': 'gavinmarsh',\n",
       "  'postId': 0,\n",
       "  'content': 'Foot strong discussion modern according government. Decide reason per friend some impact whether.Later lead stand. Cause learn fact easy computer person increase remain. Role your miss kind lay.',\n",
       "  'reactions': []},\n",
       " {'userId': 0,\n",
       "  'username': 'bdavis',\n",
       "  'postId': 1,\n",
       "  'content': 'Ask movement share real article. Inside three include employee.Thing hotel available people grow entire finish. Idea financial quickly despite once. Room protect down.',\n",
       "  'reactions': []},\n",
       " {'userId': 5,\n",
       "  'username': 'gavinmarsh',\n",
       "  'postId': 2,\n",
       "  'content': 'Expect prepare tonight current age while. Fast writer per sense. Book may site increase during.Similar industry sign sea study product. Ok civil newspaper air mission government day.',\n",
       "  'reactions': []},\n",
       " {'userId': 5,\n",
       "  'username': 'gavinmarsh',\n",
       "  'postId': 3,\n",
       "  'content': 'Do country design really between. Rate risk trial shoulder.Something office life move foreign difference. Official food American box will policy begin. Father fast sell road follow attorney.',\n",
       "  'reactions': []},\n",
       " {'userId': 5,\n",
       "  'username': 'gavinmarsh',\n",
       "  'postId': 4,\n",
       "  'content': 'Others family fire glass. Sea and they already.Act thousand central. Together a safe among seem. Police push show daughter.Night red pass thought want. Almost politics that hotel up show different.',\n",
       "  'reactions': []},\n",
       " {'userId': 0,\n",
       "  'username': 'bdavis',\n",
       "  'postId': 5,\n",
       "  'content': 'Relate order old nor will drive. Available there pressure write fish. Growth southern agree born box reach.Small like theory become foot. Question pull nor show food car always.',\n",
       "  'reactions': []},\n",
       " {'userId': 3,\n",
       "  'username': 'michelle81',\n",
       "  'postId': 6,\n",
       "  'content': 'Throughout break property environment.Win activity debate player. Trade feeling much let role. Situation run artist including character hour.Behind hour control. Water according run sure son.',\n",
       "  'reactions': []},\n",
       " {'userId': 0,\n",
       "  'username': 'bdavis',\n",
       "  'postId': 7,\n",
       "  'content': 'Sometimes little investment instead result across from. Drive go off true major less inside themselves. Stop against TV adult task statement cold dog.',\n",
       "  'reactions': []},\n",
       " {'userId': 2,\n",
       "  'username': 'cynthiaallen',\n",
       "  'postId': 8,\n",
       "  'content': 'Adult above they social visit simple. East consider knowledge town. Majority certain goal some politics edge look.We question another total serve. Expect training quickly many.',\n",
       "  'reactions': []},\n",
       " {'userId': 4,\n",
       "  'username': 'lindsay04',\n",
       "  'postId': 9,\n",
       "  'content': 'Involve left kind daughter avoid. Southern such rock customer. Know than control however reality class.Allow interview not attention. Standard trouble house hold whole daughter Democrat.',\n",
       "  'reactions': []}]"
      ]
     },
     "execution_count": 8,
     "metadata": {},
     "output_type": "execute_result"
    }
   ],
   "source": [
    "posts"
   ]
  },
  {
   "cell_type": "code",
   "execution_count": 35,
   "metadata": {},
   "outputs": [],
   "source": [
    "with open(\"samplePostData.json\", \"w\") as f:\n",
    "  json.dump(posts, f, indent=2)"
   ]
  },
  {
   "cell_type": "code",
   "execution_count": null,
   "metadata": {},
   "outputs": [],
   "source": []
  }
 ],
 "metadata": {
  "kernelspec": {
   "display_name": "school",
   "language": "python",
   "name": "python3"
  },
  "language_info": {
   "codemirror_mode": {
    "name": "ipython",
    "version": 3
   },
   "file_extension": ".py",
   "mimetype": "text/x-python",
   "name": "python",
   "nbconvert_exporter": "python",
   "pygments_lexer": "ipython3",
   "version": "3.10.9"
  },
  "orig_nbformat": 4,
  "vscode": {
   "interpreter": {
    "hash": "105b338b3980484a30612e12bb8da50c0a8af4d7e161d9fda78a479814b6b08e"
   }
  }
 },
 "nbformat": 4,
 "nbformat_minor": 2
}
